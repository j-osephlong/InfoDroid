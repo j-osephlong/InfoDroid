{
 "cells": [
  {
   "cell_type": "code",
   "execution_count": 7,
   "metadata": {},
   "outputs": [],
   "source": [
    "from api.models import *\n",
    "from api.distance import haversine\n",
    "from django.db.models import F\n",
    "from api.reverse_geocode import get_locality\n"
   ]
  },
  {
   "cell_type": "code",
   "execution_count": 2,
   "metadata": {},
   "outputs": [],
   "source": [
    "import os\n",
    "import django\n",
    "os.environ.setdefault('DJANGO_SETTINGS_MODULE', 'rest.settings')\n",
    "os.environ[\"DJANGO_ALLOW_ASYNC_UNSAFE\"] = \"true\"\n",
    "django.setup()"
   ]
  },
  {
   "cell_type": "code",
   "execution_count": 3,
   "metadata": {},
   "outputs": [],
   "source": [
    "location = {\n",
    "    \"coord_longitude\" : -66,\n",
    "    \"coord_latitude\" : 45.3888,\n",
    "    \"range_meters\" : 1000,\n",
    "}"
   ]
  },
  {
   "cell_type": "code",
   "execution_count": 9,
   "metadata": {},
   "outputs": [
    {
     "data": {
      "text/plain": [
       "{'coord_longitude': -66,\n",
       " 'coord_latitude': 45.3888,\n",
       " 'range_meters': 1000,\n",
       " 'locality': {'name': 'Rothesay',\n",
       "  'google_place_id': 'ChIJ_2vsoe-sp0wRwi0gFylfEZs'}}"
      ]
     },
     "execution_count": 9,
     "metadata": {},
     "output_type": "execute_result"
    }
   ],
   "source": [
    "location.update({\n",
    "    \"locality\" : get_locality(location['coord_longitude'], location['coord_latitude']) \n",
    "})\n",
    "location"
   ]
  },
  {
   "cell_type": "code",
   "execution_count": 4,
   "metadata": {},
   "outputs": [],
   "source": [
    "posts = Post.objects.annotate(\n",
    "                    distance = haversine(F('coord_longitude'), F('coord_latitude'), location['coord_longitude'], location['coord_latitude'])\n",
    "                ).filter(distance__lte=location['range_meters']).order_by('-created_on')"
   ]
  },
  {
   "cell_type": "code",
   "execution_count": 5,
   "metadata": {},
   "outputs": [
    {
     "name": "stdout",
     "output_type": "stream",
     "text": [
      "{'_state': <django.db.models.base.ModelState object at 0x000001E0971363E0>, 'id': 17, 'title': ':)', 'content': 'new_post', 'ref_url': '', 'image': '', 'author_id': 2, 'created_on': datetime.datetime(2022, 1, 20, 22, 51, 0, 115151, tzinfo=datetime.timezone.utc), 'coord_longitude': -65.9943, 'coord_latitude': 45.3888, 'range_meters': 10000, 'locality_id': 'ChIJ_2vsoe-sp0wRwi0gFylfEZs', 'extend_to_locality': False, 'distance': 445.1205835871303}\n",
      "{'_state': <django.db.models.base.ModelState object at 0x000001E0971364A0>, 'id': 16, 'title': ':)', 'content': 'new_post', 'ref_url': '', 'image': '', 'author_id': 2, 'created_on': datetime.datetime(2022, 1, 20, 22, 50, 23, 607168, tzinfo=datetime.timezone.utc), 'coord_longitude': -65.9943, 'coord_latitude': 45.3888, 'range_meters': 10000, 'locality_id': 'ChIJ_2vsoe-sp0wRwi0gFylfEZs', 'extend_to_locality': False, 'distance': 445.1205835871303}\n",
      "{'_state': <django.db.models.base.ModelState object at 0x000001E097136560>, 'id': 15, 'title': ':)', 'content': 'new_post', 'ref_url': '', 'image': '', 'author_id': 2, 'created_on': datetime.datetime(2022, 1, 20, 21, 4, 0, 970947, tzinfo=datetime.timezone.utc), 'coord_longitude': -65.9943, 'coord_latitude': 45.3888, 'range_meters': 10000, 'locality_id': 'ChIJ_2vsoe-sp0wRwi0gFylfEZs', 'extend_to_locality': False, 'distance': 445.1205835871303}\n"
     ]
    }
   ],
   "source": [
    "for i in posts:\n",
    "    print(i.__dict__)"
   ]
  },
  {
   "cell_type": "markdown",
   "metadata": {},
   "source": [
    "# Range Mode Query"
   ]
  },
  {
   "cell_type": "code",
   "execution_count": 6,
   "metadata": {},
   "outputs": [],
   "source": [
    "posts = Post.objects.annotate(\n",
    "            distance = haversine(F('coord_longitude'), F('coord_latitude'), location['coord_longitude'], location['coord_latitude'])\n",
    "        ).filter(\n",
    "            distance__lte=location['range_meters']\n",
    "        ).filter(\n",
    "            distance__lte=F('range_meters')   \n",
    "        ).order_by('-created_on')"
   ]
  },
  {
   "cell_type": "markdown",
   "metadata": {},
   "source": [
    "# Locality Mode Query"
   ]
  },
  {
   "cell_type": "code",
   "execution_count": 34,
   "metadata": {},
   "outputs": [
    {
     "data": {
      "text/plain": [
       "<QuerySet [<Post: :) - testUser1 - 2022-01-20 21:04:00.970947+00:00>, <Post: :) - testUser1 - 2022-01-20 22:50:23.607168+00:00>, <Post: :) - testUser1 - 2022-01-20 22:51:00.115151+00:00>]>"
      ]
     },
     "execution_count": 34,
     "metadata": {},
     "output_type": "execute_result"
    }
   ],
   "source": [
    "posts_extend = Post.objects.filter(\n",
    "    extend_to_locality = True, locality__google_place_id = location['locality']['google_place_id']\n",
    ")\n",
    "posts_no_extend = posts = Post.objects.annotate(\n",
    "    distance = haversine(F('coord_longitude'), F('coord_latitude'), location['coord_longitude'], location['coord_latitude'])\n",
    ").filter(\n",
    "    extend_to_locality = False, locality__google_place_id = location['locality']['google_place_id'], distance__lte = F('range_meters')\n",
    ")\n",
    "combined = (posts_extend | posts_no_extend).distinct()\n",
    "\n",
    "combined\n"
   ]
  },
  {
   "cell_type": "code",
   "execution_count": 21,
   "metadata": {},
   "outputs": [
    {
     "data": {
      "text/plain": [
       "False"
      ]
     },
     "execution_count": 21,
     "metadata": {},
     "output_type": "execute_result"
    }
   ],
   "source": []
  },
  {
   "cell_type": "code",
   "execution_count": null,
   "metadata": {},
   "outputs": [],
   "source": []
  }
 ],
 "metadata": {
  "interpreter": {
   "hash": "349bf914c7ed8d211408fdce3a731396cbb5629458ab89266a4517b50fca4a92"
  },
  "kernelspec": {
   "display_name": "Django Shell-Plus",
   "language": "python",
   "name": "django_extensions"
  },
  "language_info": {
   "codemirror_mode": {
    "name": "ipython",
    "version": 3
   },
   "file_extension": ".py",
   "mimetype": "text/x-python",
   "name": "python",
   "nbconvert_exporter": "python",
   "pygments_lexer": "ipython3",
   "version": "3.10.1"
  },
  "orig_nbformat": 4
 },
 "nbformat": 4,
 "nbformat_minor": 2
}
